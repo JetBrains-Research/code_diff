{
 "cells": [
  {
   "cell_type": "code",
   "execution_count": null,
   "metadata": {},
   "outputs": [],
   "source": [
    "import torch\n",
    "import catalyst\n",
    "from .. import load_data_text\n",
    "from .. import create_model, SpacedDiffusion, UniformSampler\n",
    "\n",
    "device = torch.device('cpu')"
   ]
  },
  {
   "cell_type": "code",
   "execution_count": null,
   "metadata": {},
   "outputs": [],
   "source": [
    "model = create_model(\n",
    "    image_size=64,\n",
    "    num_channels=128,\n",
    "    num_res_blocks=2,\n",
    "    learn_sigma=False,\n",
    "    class_cond=False,\n",
    "    attention_resolutions=\"16,8\",\n",
    "    num_heads=4,\n",
    "    num_heads_upsample=-1,\n",
    "    use_scale_shift_norm=True,\n",
    "    dropout=0,\n",
    "    model_arch='transformer',\n",
    "    in_channel=16,\n",
    "    out_channel=8,\n",
    "    training_mode='e2e',\n",
    "    vocab_size=1000,\n",
    "    config_name='bert-base-uncased',\n",
    "    experiment_mode='lm',\n",
    "    logits_mode=1\n",
    ").to(device)\n",
    "\n",
    "diffusion = SpacedDiffusion(\n",
    "    diffusion_steps=1000,\n",
    "    rescale_timesteps=True,\n",
    "    model_arch='transformer',\n",
    "    training_mode='e2e',\n",
    "    device=device,\n",
    "    model=model\n",
    ")\n",
    "\n",
    "schedule_sampler = UniformSampler(diffusion)"
   ]
  },
  {
   "cell_type": "code",
   "execution_count": null,
   "metadata": {},
   "outputs": [],
   "source": [
    "model2, tokenizer = load_models('e2e-tgt', 'random', 'gpt2', 16)\n",
    "rev_tokenizer = {v: k for k, v in tokenizer.items()}"
   ]
  },
  {
   "cell_type": "code",
   "execution_count": null,
   "metadata": {},
   "outputs": [],
   "source": [
    "data = load_data_text(\n",
    "    batch_size=64,\n",
    "    image_size=64,\n",
    "    padding_mode='block',\n",
    "    load_vocab=None,\n",
    "    model=None\n",
    ")\n",
    "\n",
    "data_valid = load_data_text(\n",
    "    batch_size=64,\n",
    "    image_size=64,\n",
    "    padding_mode='block',\n",
    "    split='valid',\n",
    "    load_vocab=rev_tokenizer,\n",
    "    model=model2\n",
    ")"
   ]
  },
  {
   "cell_type": "code",
   "execution_count": null,
   "metadata": {},
   "outputs": [],
   "source": [
    "# model=model,\n",
    "# diffusion=diffusion,\n",
    "# data=data,\n",
    "# eval_data=data_valid,\n",
    "# batch_size=args.batch_size,\n",
    "# lr=args.lr,\n",
    "# ema_rate=args.ema_rate,\n",
    "# schedule_sampler=schedule_sampler"
   ]
  }
 ],
 "metadata": {
  "kernelspec": {
   "display_name": "Python 3.8.15 64-bit",
   "language": "python",
   "name": "python3"
  },
  "language_info": {
   "name": "python",
   "version": "3.8.15"
  },
  "orig_nbformat": 4,
  "vscode": {
   "interpreter": {
    "hash": "1ee38ef4a5a9feb55287fd749643f13d043cb0a7addaab2a9c224cbe137c0062"
   }
  }
 },
 "nbformat": 4,
 "nbformat_minor": 2
}
