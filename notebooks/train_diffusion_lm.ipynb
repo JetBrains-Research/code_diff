{
 "cells": [
  {
   "cell_type": "code",
   "execution_count": 1,
   "metadata": {},
   "outputs": [
    {
     "name": "stderr",
     "output_type": "stream",
     "text": [
      "/Users/user/Library/Python/3.8/lib/python/site-packages/scipy/__init__.py:146: UserWarning: A NumPy version >=1.16.5 and <1.23.0 is required for this version of SciPy (detected version 1.23.5\n",
      "  warnings.warn(f\"A NumPy version >={np_minversion} and <{np_maxversion}\"\n"
     ]
    }
   ],
   "source": [
    "import os\n",
    "os.chdir(\"..\")\n",
    "\n",
    "import json\n",
    "import copy\n",
    "import torch\n",
    "import catalyst\n",
    "from src import load_data_text\n",
    "from transformers import AutoTokenizer\n",
    "from src import SpacedDiffusion, UniformSampler, Transformer\n",
    "\n",
    "device = torch.device('cpu')"
   ]
  },
  {
   "cell_type": "code",
   "execution_count": 2,
   "metadata": {},
   "outputs": [],
   "source": [
    "channel_mult = (1, 2, 3, 4)\n",
    "attention_ds = []\n",
    "for res in [16, 8]:\n",
    "    attention_ds.append(64 // int(res))\n",
    "\n",
    "model = Transformer(\n",
    "    in_channels=16, out_channels=8,\n",
    "    model_channels=128,\n",
    "    num_res_blocks=2,\n",
    "    attention_resolutions=tuple(attention_ds),\n",
    "    channel_mult=channel_mult,\n",
    "    num_classes=None,\n",
    "    num_heads=4,\n",
    "    vocab_size=1000,\n",
    "    logits_mode=1,\n",
    ").to(device)\n",
    "\n",
    "diffusion = SpacedDiffusion(\n",
    "    diffusion_steps=1000,\n",
    "    rescale_timesteps=True,\n",
    "    model_arch='transformer',\n",
    "    training_mode='e2e',\n",
    "    device=device,\n",
    "    model=model\n",
    ")\n",
    "\n",
    "schedule_sampler = UniformSampler(diffusion)"
   ]
  },
  {
   "cell_type": "code",
   "execution_count": 3,
   "metadata": {},
   "outputs": [],
   "source": [
    "rev_tokenizer = AutoTokenizer.from_pretrained('bert-base-uncased')\n",
    "model2 = torch.nn.Embedding(len(rev_tokenizer), 16)"
   ]
  },
  {
   "cell_type": "code",
   "execution_count": 4,
   "metadata": {},
   "outputs": [],
   "source": [
    "data = load_data_text(\n",
    "    batch_size=32,\n",
    "    image_size=64,\n",
    "    load_vocab=None,\n",
    "    split='train',\n",
    "    model=None\n",
    ")\n",
    "\n",
    "data_valid = load_data_text(\n",
    "    batch_size=32,\n",
    "    image_size=64,\n",
    "    split='valid',\n",
    "    load_vocab=rev_tokenizer,\n",
    "    model=model2\n",
    ")"
   ]
  },
  {
   "cell_type": "code",
   "execution_count": 5,
   "metadata": {},
   "outputs": [],
   "source": [
    "ema_rate = [0.9999]\n",
    "\n",
    "model_params = list(model.parameters())\n",
    "master_params = model_params\n",
    "\n",
    "optimizer = torch.optim.Adam(master_params)\n",
    "ema_params = [copy.deepcopy(master_params) for _ in range(len(ema_rate))]\n",
    "\n",
    "for i, (batch, cond) in enumerate(data):  \n",
    "    for p in model_params:\n",
    "        if p.grad is not None:\n",
    "            p.grad.zero_()\n",
    "\n",
    "    batch = batch.to(device)\n",
    "    micro_cond = {k: v.to(device) for k, v in cond.items()}\n",
    "    t, weights = schedule_sampler.sample(batch.shape[0], device)\n",
    "\n",
    "    loss = (diffusion.training_losses(model, batch, t, model_kwargs=micro_cond)[\"loss\"] * weights).mean()\n",
    "    loss.backward()\n",
    "    optimizer.step()\n",
    "\n",
    "    print(loss)\n",
    "\n",
    "    for rate, params in zip(ema_rate, ema_params):\n",
    "        for targ, src in zip(params, master_params):\n",
    "            targ.detach().mul_(rate).add_(src, alpha=1 - rate)\n",
    "\n",
    "    if (i + 1) % 10 == 0:\n",
    "        with torch.no_grad():\n",
    "            for (batch_eval, cond_eval) in data_valid:\n",
    "                for p in model_params:\n",
    "                    if p.grad is not None:\n",
    "                        p.grad.zero_()\n",
    "\n",
    "                batch_eval = batch_eval.to(device)\n",
    "                micro_cond = {k: v.to(device) for k, v in cond_eval.items()}\n",
    "                t, weights = schedule_sampler.sample(batch_eval.shape[0], device)\n",
    "\n",
    "                diffusion.training_losses(model, batch_eval, t, model_kwargs=micro_cond)\n"
   ]
  },
  {
   "cell_type": "code",
   "execution_count": null,
   "metadata": {},
   "outputs": [],
   "source": []
  }
 ],
 "metadata": {
  "kernelspec": {
   "display_name": "Python 3.8.15 64-bit",
   "language": "python",
   "name": "python3"
  },
  "language_info": {
   "codemirror_mode": {
    "name": "ipython",
    "version": 3
   },
   "file_extension": ".py",
   "mimetype": "text/x-python",
   "name": "python",
   "nbconvert_exporter": "python",
   "pygments_lexer": "ipython3",
   "version": "3.8.15"
  },
  "orig_nbformat": 4,
  "vscode": {
   "interpreter": {
    "hash": "1ee38ef4a5a9feb55287fd749643f13d043cb0a7addaab2a9c224cbe137c0062"
   }
  }
 },
 "nbformat": 4,
 "nbformat_minor": 2
}
